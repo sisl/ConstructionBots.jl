{
 "cells": [
  {
   "cell_type": "markdown",
   "metadata": {},
   "source": [
    "# Debug GraphEnv.
   ]
  },
  {
   "cell_type": "code",
   "execution_count": 1,
   "metadata": {},
   "outputs": [
    {
     "name": "stderr",
     "output_type": "stream",
     "text": [
      "┌ Info: Recompiling stale cache file /Users/kyle/.julia/compiled/v1.0/CRCBS.26Ksw.ji for CRCBS.[edef75b8-3ac4-11e9-0392-bf149c536ee3]\n",
      "└ @ Base loading.jl:1190\n"
     ]
    }
   ],
   "source": [
    "using CRCBS.n",
    "using DataStructures\n",
    "using LightGraphs, MetaGraphs"
   ]
  },
  {
   "cell_type": "code",
   "execution_count": 2,
   "metadata": {},
   "outputs": [
    {
     "data": {
      "text/plain": [
       "ConstraintTreeNode{CRCBS.GraphEnv.State,CRCBS.GraphEnv.Action}\n",
       "  constraints: Dict{Int64,ConstraintDict}\n",
       "  conflict_table: ConflictTable\n",
       "  solution: Array{Path{CRCBS.GraphEnv.State,CRCBS.GraphEnv.Action}}((2,))\n",
       "  cost: Int64 -1\n",
       "  parent: Int64 -1\n",
       "  children: Tuple{Int64,Int64}\n",
       "  id: Int64 1\n"
      ]
     },
     "execution_count": 2,
     "metadata": {},
     "output_type": "execute_result"
    }
   ],
   "source": [
    "solver = GraphEnv.CBSSolver()\n",
    "G = initialize_regular_grid_graph(;n_obstacles_x=1,n_obstacles_y=1)\n",
    "mapf = MAPF(\n",
    "    G,\n",
    "    [GraphEnv.State(1,0),GraphEnv.State(2,0)],\n",
    "    [GraphEnv.State(vtx=6),GraphEnv.State(vtx=5)]\n",
    "    )\n",
    "node = GraphEnv.initialize_root_node(mapf)"
   ]
  },
  {
   "cell_type": "code",
   "execution_count": 10,
   "metadata": {},
   "outputs": [
    {
     "data": {
      "text/plain": [
       "PriorityQueue{ConstraintTreeNode,Int64,Base.Order.ForwardOrdering} with 1 entry:\n",
       "  ConstraintTreeNode{State,Action}(Dict(2=>ConstraintDict(Dict{StateConstr… => 8"
      ]
     },
     "execution_count": 10,
     "metadata": {},
     "output_type": "execute_result"
    }
   ],
   "source": [
    "priority_queue = PriorityQueue{ConstraintTreeNode,Int}()\n",
    "# node_list = Vector{ConstraintTreeNode}()\n",
    "\n",
    "root_node = GraphEnv.initialize_root_node(mapf)\n",
    "GraphEnv.low_level_search!(solver,mapf,root_node)\n",
    "detect_conflicts!(root_node.conflict_table,root_node.solution)\n",
    "if is_valid(root_node.solution,mapf)\n",
    "    # @show root_node\n",
    "    enqueue!(priority_queue, root_node => root_node.cost)\n",
    "    # push!(node_list,root_node)\n",
    "end"
   ]
  },
  {
   "cell_type": "code",
   "execution_count": 22,
   "metadata": {},
   "outputs": [
    {
     "name": "stdout",
     "output_type": "stream",
     "text": [
      "traj = [2, 3, 4, 5, 6]\n",
      "traj = [3, 4, 5]\n"
     ]
    }
   ],
   "source": [
    "node, cost = peek(priority_queue)\n",
    "for path in node.solution\n",
    "    traj = [n.a.e.dst for n in path.path_nodes]\n",
    "    @show traj\n",
    "end"
   ]
  },
  {
   "cell_type": "code",
   "execution_count": 23,
   "metadata": {},
   "outputs": [
    {
     "name": "stdout",
     "output_type": "stream",
     "text": [
      "((conflict.node1).sp, conflict.agent1_id) = (CRCBS.GraphEnv.State\n",
      "  vtx: Int64 5\n",
      "  t: Int64 4\n",
      ", 1)\n"
     ]
    },
    {
     "data": {
      "text/plain": [
       "2-element Array{CBSConstraint,1}:\n",
       " StateConstraint{PathNode{CRCBS.GraphEnv.State,CRCBS.GraphEnv.Action}}(1, PathNode{CRCBS.GraphEnv.State,CRCBS.GraphEnv.Action}\n",
       "  s: CRCBS.GraphEnv.State\n",
       "  a: CRCBS.GraphEnv.Action\n",
       "  sp: CRCBS.GraphEnv.State\n",
       ", 4)\n",
       " StateConstraint{PathNode{CRCBS.GraphEnv.State,CRCBS.GraphEnv.Action}}(2, PathNode{CRCBS.GraphEnv.State,CRCBS.GraphEnv.Action}\n",
       "  s: CRCBS.GraphEnv.State\n",
       "  a: CRCBS.GraphEnv.Action\n",
       "  sp: CRCBS.GraphEnv.State\n",
       ", 4)"
      ]
     },
     "execution_count": 23,
     "metadata": {},
     "output_type": "execute_result"
    }
   ],
   "source": [
    "node = dequeue!(priority_queue)\n",
    "# check for conflicts\n",
    "conflict = get_next_conflict(node.conflict_table)\n",
    "@show conflict.node1.sp, conflict.agent1_id\n",
    "if is_valid(conflict)\n",
    "    constraints = generate_constraints_from_conflict(conflict)\n",
    "else\n",
    "    print(\"Optimal Solution Found! Cost = \",node.cost,\"\\n\")\n",
    "    return node.solution, node.cost\n",
    "end"
   ]
  },
  {
   "cell_type": "code",
   "execution_count": 41,
   "metadata": {},
   "outputs": [
    {
     "name": "stdout",
     "output_type": "stream",
     "text": [
      "(c1.a, c2.a) = (1, 2)\n",
      "(c1.t, c2.t) = (4, 4)\n",
      "(c1.v).sp = CRCBS.GraphEnv.State\n",
      "  vtx: Int64 5\n",
      "  t: Int64 4\n",
      "\n"
     ]
    }
   ],
   "source": [
    "c1 = constraints[1]\n",
    "c2 = constraints[2]\n",
    "@show c1.a, c2.a\n",
    "@show c1.t, c2.t;\n",
    "@show c1.v.sp;"
   ]
  },
  {
   "cell_type": "code",
   "execution_count": 44,
   "metadata": {},
   "outputs": [
    {
     "name": "stdout",
     "output_type": "stream",
     "text": [
      "[(n.sp).vtx for n = p.path_nodes] = [2, 3, 3, 4, 5, 6]\n",
      "[(n.sp).vtx for n = p.path_nodes] = [3, 4, 5]\n"
     ]
    },
    {
     "data": {
      "text/plain": [
       "PriorityQueue{ConstraintTreeNode,Int64,Base.Order.ForwardOrdering} with 1 entry:\n",
       "  ConstraintTreeNode{State,Action}(Dict(2=>ConstraintDict(Dict{StateConstr… => 9"
      ]
     },
     "execution_count": 44,
     "metadata": {},
     "output_type": "execute_result"
    }
   ],
   "source": [
    "new_node = GraphEnv.initialize_child_node(node)\n",
    "constraint = constraints[1]\n",
    "if add_constraint!(new_node,constraint)\n",
    "    GraphEnv.low_level_search!(solver,mapf,new_node,[get_agent_id(constraint)])\n",
    "    for p in new_node.solution\n",
    "        @show [n.sp.vtx for n in p.path_nodes]\n",
    "    end\n",
    "    detect_conflicts!(new_node.conflict_table,new_node.solution,[get_agent_id(constraint)]) # update conflicts related to this agent\n",
    "    if is_valid(new_node.solution, mapf)\n",
    "        # @show new_node.constraints\n",
    "        enqueue!(priority_queue, new_node => new_node.cost)\n",
    "        # push!(node_list, new_node)\n",
    "    end\n",
    "end"
   ]
  },
  {
   "cell_type": "code",
   "execution_count": null,
   "metadata": {},
   "outputs": [],
   "source": []
  }
 ],
 "metadata": {
  "kernelspec": {
   "display_name": "Julia 1.0.3",
   "language": "julia",
   "name": "julia-1.0"
  },
  "language_info": {
   "file_extension": ".jl",
   "mimetype": "application/julia",
   "name": "julia",
   "version": "1.0.3"
  }
 },
 "nbformat": 4,
 "nbformat_minor": 2
}
